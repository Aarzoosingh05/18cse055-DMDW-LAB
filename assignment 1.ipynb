{
  "nbformat": 4,
  "nbformat_minor": 0,
  "metadata": {
    "colab": {
      "name": "Untitled0.ipynb",
      "provenance": [],
      "authorship_tag": "ABX9TyNKeGUAFV2lwi3uoWGWhzxu",
      "include_colab_link": true
    },
    "kernelspec": {
      "display_name": "Python 3",
      "name": "python3"
    }
  },
  "cells": [
    {
      "cell_type": "markdown",
      "metadata": {
        "id": "view-in-github",
        "colab_type": "text"
      },
      "source": [
        "<a href=\"https://colab.research.google.com/github/Aarzoosingh05/18cse055-DMDW-LAB/blob/main/assignment%201.ipynb\" target=\"_parent\"><img src=\"https://colab.research.google.com/assets/colab-badge.svg\" alt=\"Open In Colab\"/></a>"
      ]
    },
    {
      "cell_type": "markdown",
      "metadata": {
        "id": "i8nBNkbvokHF"
      },
      "source": [
        "Q.1 Write a python code for finding mean, median and mode with and without using library functions."
      ]
    },
    {
      "cell_type": "code",
      "metadata": {
        "colab": {
          "base_uri": "https://localhost:8080/"
        },
        "id": "UTB4l2P7ol06",
        "outputId": "9d45fcda-ad9a-4780-c2a1-421a76f3d56b"
      },
      "source": [
        "list1=[]\n",
        "n=int(input(\"Enter number of elements:\"))\n",
        "for i in range(0,n):\n",
        "  item=int(input())\n",
        "  list1.append(item)\n",
        "\n",
        "#finding the mean\n",
        "\n",
        "num_sum = sum(list1)\n",
        "mean = num_sum / len(list1)\n",
        "print(list1)\n",
        "print(\"Mean of above list:\" + str(round(mean,2)))\n",
        "\n",
        "\n",
        "#finding the median\n",
        "\n",
        "\n",
        "list1.sort()\n",
        "if len(list1) % 2 == 0:\n",
        "   median1 = list1[len(list1) // 2]\n",
        "   median2 = list1[len(list1) // 2 - 1]\n",
        "   median = (median1 + median2) / 2\n",
        "else:\n",
        "   median = list1[len(list1) // 2]\n",
        "print(list1)\n",
        "print(\"Median of above list: \" + str(median))\n",
        "\n",
        "#finding the mode\n",
        "\n",
        "L1=[] \n",
        "    \n",
        "j = 0\n",
        "while j < len(list1) : \n",
        "    L1.append(list1.count(list1[j])) \n",
        "    j += 1\n",
        "  \n",
        "d1 = dict(zip(list1, L1)) \n",
        "  \n",
        "d2={k for (k,v) in d1.items() if v == max(L1) } \n",
        "  \n",
        "print(\"Mode(s) is/are :\" + str(d2))"
      ],
      "execution_count": null,
      "outputs": [
        {
          "output_type": "stream",
          "text": [
            "Enter number of elements:6\n",
            "6\n",
            "4\n",
            "4\n",
            "5\n",
            "3\n",
            "3\n",
            "[6, 4, 4, 5, 3, 3]\n",
            "Mean of above list:4.17\n",
            "[3, 3, 4, 4, 5, 6]\n",
            "Median of above list: 4.0\n",
            "Mode(s) is/are :{3, 4}\n"
          ],
          "name": "stdout"
        }
      ]
    },
    {
      "cell_type": "markdown",
      "metadata": {
        "id": "hQms9nM0plOO"
      },
      "source": [
        "Q.2 Write a python code for calculating variance and standard deviation for the set of elements with and without using library functions.\n"
      ]
    },
    {
      "cell_type": "code",
      "metadata": {
        "colab": {
          "base_uri": "https://localhost:8080/"
        },
        "id": "RoAcCVOfpktG",
        "outputId": "f19b69e2-36a5-4544-95c9-a5dc62174c3f"
      },
      "source": [
        "4list1=[]\n",
        "n=int(input(\"Enter number of elements:\"))\n",
        "for i in range(0,n):\n",
        "  item=int(input())\n",
        "  list1.append(item)\n",
        "\n",
        "#finding the variance\n",
        "\n",
        "ddof=0\n",
        "ddof1=1\n",
        "n = len(list1)\n",
        "mean = sum(list1) / n\n",
        "s1=sum((x - mean) ** 2 for x in list1) / (n - ddof)\n",
        "s2=sum((x - mean) ** 2 for x in list1) / (n - ddof1)\n",
        "print(list1)\n",
        "print(\"Variance:\",s1)\n",
        "print(\"Estimation value for Variance:\",s2)\n",
        "\n",
        "#finding the standard deviation\n",
        "\n",
        "var = s1\n",
        "var1 = s2\n",
        "std_dev = (var)**(1/2)\n",
        "estd_dev = (var1)**(1/2)\n",
        "print(\"Standard Deviation:\",std_dev)\n",
        "print(\"Estimated value for Standard Deviation:\",estd_dev)"
      ],
      "execution_count": null,
      "outputs": [
        {
          "output_type": "stream",
          "text": [
            "Enter number of elements:6\n",
            "3\n",
            "4\n",
            "2\n"
          ],
          "name": "stdout"
        }
      ]
    },
    {
      "cell_type": "markdown",
      "metadata": {
        "id": "O4WEDhdxp__I"
      },
      "source": [
        "Q3. Practice some basic python programs with List, Tuple, Dictionary & string.\n",
        "\n",
        "a)List"
      ]
    },
    {
      "cell_type": "code",
      "metadata": {
        "colab": {
          "background_save": true
        },
        "id": "_u_1u9GpqVOc",
        "outputId": "b8a358b2-81dc-4fba-beb2-355799818fdf"
      },
      "source": [
        "def listex():\n",
        "  l1=[1,11,\"Harvey\",\"Spector\"]\n",
        "  print(\"length\",len(l1))\n",
        "  l1.append(7)\n",
        "  l2=[5,6,99,1,10,20]\n",
        "  l2.sort()\n",
        "  print(\"Sorting:\",l2)\n",
        "  l2.remove(20)\n",
        "  print(\"Remove the element 20:\",l2)\n",
        "  del l1[1]\n",
        "  print(\"Delete 1st index\",l1)\n",
        "  l1.insert(2,999)\n",
        "  print(\"Insert a value at 2nd Index\",l1)\n",
        "  print(\"count:\",l1.count('Harvey'))\n",
        "  l2=[10,20,30]\n",
        "  print(\"merging l1,l2\",l1+l2)\n",
        "  str=\"Hai\"\n",
        "  print(\"Hello\"+str)\n",
        "  print(\"Multiplying:\",l1*3)\n",
        "  if 10 in l1:\n",
        "    print(\"there\")\n",
        "  else:\n",
        "     print(\"not there\")\n",
        "  if 10 not in l1:\n",
        "    print(\"not there\")\n",
        "  else:\n",
        "    print(\"there\")\n",
        "listex()\n",
        "\n",
        "def listex1():\n",
        "    l11=[1,10,\"Harvey\",\"Spector\"]\n",
        "    rl=[]\n",
        "    for j in l11[::-1]:\n",
        "        rl.append(j)\n",
        "    print(rl)\n",
        "    l11.reverse()\n",
        "    print(l11)\n",
        "listex1()\n",
        "def listex2():\n",
        "    l22=[1,1,2,3,4,5,6,7,8,7,7,6]\n",
        "    l=[]\n",
        "    for k in l22:\n",
        "        if k not in l:\n",
        "            l.append(k)\n",
        "    print(l)\n",
        "listex2()"
      ],
      "execution_count": null,
      "outputs": [
        {
          "output_type": "stream",
          "text": [
            "length 4\n",
            "Sorting: [1, 5, 6, 10, 20, 99]\n",
            "Remove the element 20: [1, 5, 6, 10, 99]\n",
            "Delete 1st index [1, 'Harvey', 'Spector', 7]\n",
            "Insert a value at 2nd Index [1, 'Harvey', 999, 'Spector', 7]\n",
            "count: 1\n",
            "merging l1,l2 [1, 'Harvey', 999, 'Spector', 7, 10, 20, 30]\n",
            "HelloHai\n",
            "Multiplying: [1, 'Harvey', 999, 'Spector', 7, 1, 'Harvey', 999, 'Spector', 7, 1, 'Harvey', 999, 'Spector', 7]\n",
            "not there\n",
            "not there\n",
            "['Spector', 'Harvey', 10, 1]\n",
            "['Spector', 'Harvey', 10, 1]\n",
            "[1, 2, 3, 4, 5, 6, 7, 8]\n"
          ],
          "name": "stdout"
        }
      ]
    },
    {
      "cell_type": "markdown",
      "metadata": {
        "id": "wYksgo3SqkWd"
      },
      "source": [
        "b)Tuple"
      ]
    },
    {
      "cell_type": "code",
      "metadata": {
        "id": "eG_tWi08qoqu"
      },
      "source": [
        "def tuplex():\n",
        "  t1=(1,11,\"Rachael\",\"Zane\")\n",
        "  print(\"Elements in t1:\",t1)\n",
        "  t2=(7,21,35,49)\n",
        "  t3=t1+t2\n",
        "  print(\"Merge:\",t3)\n",
        "  print(\"Slice:\",t1[1:3])\n",
        "  print(\"Slice:\",t2[0:-1])\n",
        "  print(\"Multiply:\",t1*3)\n",
        "tuplex()"
      ],
      "execution_count": null,
      "outputs": []
    },
    {
      "cell_type": "markdown",
      "metadata": {
        "id": "e1sU2J-wqvJU"
      },
      "source": [
        "c)Dictionary"
      ]
    },
    {
      "cell_type": "code",
      "metadata": {
        "id": "fc11ANKdqzKl"
      },
      "source": [
        "def dictex():\n",
        "  d1={1:11,2:21,3:31,4:41,1:101}\n",
        "  print(d1)\n",
        "  print(\"Keys:\",d1.keys())\n",
        "  print(\"Value:\",d1.values())\n",
        "  print(d1[1])\n",
        "\n",
        "dictex()"
      ],
      "execution_count": null,
      "outputs": []
    },
    {
      "cell_type": "markdown",
      "metadata": {
        "id": "QADuO2Mrq4mB"
      },
      "source": [
        "d)String"
      ]
    },
    {
      "cell_type": "code",
      "metadata": {
        "id": "uT0U_izqq-Jh"
      },
      "source": [
        "print(\"len:\",len(\"Heya\"))\n",
        "print(\"Heya,\"+\"What are you up to?\")\n",
        "print(\"Heya\"*4)\n",
        "print('Heya\\\\How')\n",
        "if 's' in \"saniel\":\n",
        "  print(\"True\")\n",
        "else:\n",
        "  print(\"False\")\n",
        "if 'j' in \"Monica\":\n",
        "  print(\"True\")\n",
        "else:\n",
        "  print(\"False\")\n",
        "S=\"satya\"\n",
        "print(S.find('sa'))\n",
        "print(S.find('a'))\n",
        "print(S.find('a',2,4))\n",
        "print(S.find('a',2,3))\n",
        "print(S.index('sa'))\n",
        "print(S.index('t',2,4))\n",
        "s1=\"abcabcab\"\n",
        "s2=s1.replace('a','cd')\n",
        "print(s1,'\\n',s2)\n",
        "print(\"id of s1\",id(s1))\n",
        "print(\"id of s2\",id(s2))\n",
        "s3=\"Hai Bye\"\n",
        "s4=s3.upper()\n",
        "s5=s3.lower()\n",
        "s6=s3.swapcase()\n",
        "s7=s3.title()\n",
        "s8=s3.capitalize()\n",
        "print(s4)\n",
        "print(s5)\n",
        "print(s6)\n",
        "print(s7)\n",
        "print(s8)"
      ],
      "execution_count": null,
      "outputs": []
    },
    {
      "cell_type": "markdown",
      "metadata": {
        "id": "aAaCPK2qqP2T"
      },
      "source": [
        ""
      ]
    }
  ]
}